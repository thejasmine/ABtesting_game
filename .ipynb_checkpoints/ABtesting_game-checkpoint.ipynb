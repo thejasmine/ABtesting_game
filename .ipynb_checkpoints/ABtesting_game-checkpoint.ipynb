{
 "cells": [
  {
   "cell_type": "markdown",
   "metadata": {},
   "source": [
    "### Import packages"
   ]
  },
  {
   "cell_type": "code",
   "execution_count": 37,
   "metadata": {},
   "outputs": [],
   "source": [
    "import numpy as np\n",
    "import pandas as pd\n",
    "import matplotlib.pyplot as plt\n",
    "import seaborn as sns\n",
    "plt.style.use('ggplot')\n",
    "\n",
    "%matplotlib inline "
   ]
  },
  {
   "cell_type": "markdown",
   "metadata": {},
   "source": [
    "### Project Backgroud\n",
    "\n",
    "Cookie Cats is a hugely popular mobile puzzle game developed by Tactile Entertainment. It's a classic \"connect three\"-style puzzle game where the player must connect tiles of the same color to clear the board and win the level.(From DataCamp)\n",
    "![title](backgroud_img.png)"
   ]
  },
  {
   "cell_type": "markdown",
   "metadata": {},
   "source": [
    "### App monetization"
   ]
  },
  {
   "cell_type": "markdown",
   "metadata": {},
   "source": [
    "As players progress through the game, they would encounter gates that ask them to wait some amount of time to enter the next game or make purchases to avoid waiting. As a result, the timing of placing gates is an important decision to make."
   ]
  },
  {
   "cell_type": "markdown",
   "metadata": {},
   "source": [
    "### Task"
   ]
  },
  {
   "cell_type": "markdown",
   "metadata": {},
   "source": [
    "Currently, the first gate was at level 30. The company wants to know the effect of the first gate at level 30 and level 40. Would the change affect player retention?"
   ]
  },
  {
   "cell_type": "markdown",
   "metadata": {},
   "source": [
    "### Dataset Description"
   ]
  },
  {
   "cell_type": "markdown",
   "metadata": {},
   "source": [
    "The dataset is from Kaggle. https://www.kaggle.com/yufengsui/mobile-games-ab-testing"
   ]
  },
  {
   "cell_type": "markdown",
   "metadata": {},
   "source": [
    "### Data Description"
   ]
  },
  {
   "cell_type": "markdown",
   "metadata": {},
   "source": [
    "The data is from 90,189 players that installed the game while the AB-test was running. The variables are:\n",
    "\n",
    "- `userid` - a unique number for each player.\n",
    "- `version` - whether the player was put in the control group\n",
    "- `sum_gamerounds` - the number of game rounds played by the player during the first week after installation\n",
    "- `retention_1` - did the player come back and play 1 day after installing?\n",
    "- `retention_7` - did the player come back and play 7 days after installing?"
   ]
  },
  {
   "cell_type": "markdown",
   "metadata": {},
   "source": [
    "### Process\n",
    "1. Understand the dataset\n",
    "2. Check if there are any missing value and outliner\n",
    "3. EDA and data visualization\n",
    "4. Hypothesis testing - are we confident about the difference?\n",
    "5. Result and business recommendation"
   ]
  },
  {
   "cell_type": "markdown",
   "metadata": {},
   "source": [
    "## Understand the dataset"
   ]
  },
  {
   "cell_type": "code",
   "execution_count": 6,
   "metadata": {},
   "outputs": [
    {
     "data": {
      "text/html": [
       "<div>\n",
       "<style scoped>\n",
       "    .dataframe tbody tr th:only-of-type {\n",
       "        vertical-align: middle;\n",
       "    }\n",
       "\n",
       "    .dataframe tbody tr th {\n",
       "        vertical-align: top;\n",
       "    }\n",
       "\n",
       "    .dataframe thead th {\n",
       "        text-align: right;\n",
       "    }\n",
       "</style>\n",
       "<table border=\"1\" class=\"dataframe\">\n",
       "  <thead>\n",
       "    <tr style=\"text-align: right;\">\n",
       "      <th></th>\n",
       "      <th>userid</th>\n",
       "      <th>version</th>\n",
       "      <th>sum_gamerounds</th>\n",
       "      <th>retention_1</th>\n",
       "      <th>retention_7</th>\n",
       "    </tr>\n",
       "  </thead>\n",
       "  <tbody>\n",
       "    <tr>\n",
       "      <th>0</th>\n",
       "      <td>116</td>\n",
       "      <td>gate_30</td>\n",
       "      <td>3</td>\n",
       "      <td>False</td>\n",
       "      <td>False</td>\n",
       "    </tr>\n",
       "    <tr>\n",
       "      <th>1</th>\n",
       "      <td>337</td>\n",
       "      <td>gate_30</td>\n",
       "      <td>38</td>\n",
       "      <td>True</td>\n",
       "      <td>False</td>\n",
       "    </tr>\n",
       "    <tr>\n",
       "      <th>2</th>\n",
       "      <td>377</td>\n",
       "      <td>gate_40</td>\n",
       "      <td>165</td>\n",
       "      <td>True</td>\n",
       "      <td>False</td>\n",
       "    </tr>\n",
       "    <tr>\n",
       "      <th>3</th>\n",
       "      <td>483</td>\n",
       "      <td>gate_40</td>\n",
       "      <td>1</td>\n",
       "      <td>False</td>\n",
       "      <td>False</td>\n",
       "    </tr>\n",
       "    <tr>\n",
       "      <th>4</th>\n",
       "      <td>488</td>\n",
       "      <td>gate_40</td>\n",
       "      <td>179</td>\n",
       "      <td>True</td>\n",
       "      <td>True</td>\n",
       "    </tr>\n",
       "  </tbody>\n",
       "</table>\n",
       "</div>"
      ],
      "text/plain": [
       "   userid  version  sum_gamerounds  retention_1  retention_7\n",
       "0     116  gate_30               3        False        False\n",
       "1     337  gate_30              38         True        False\n",
       "2     377  gate_40             165         True        False\n",
       "3     483  gate_40               1        False        False\n",
       "4     488  gate_40             179         True         True"
      ]
     },
     "execution_count": 6,
     "metadata": {},
     "output_type": "execute_result"
    }
   ],
   "source": [
    "df = pd.read_csv('cookie_cats.csv')\n",
    "df.head()"
   ]
  },
  {
   "cell_type": "code",
   "execution_count": 10,
   "metadata": {},
   "outputs": [
    {
     "name": "stdout",
     "output_type": "stream",
     "text": [
      "<class 'pandas.core.frame.DataFrame'>\n",
      "RangeIndex: 90189 entries, 0 to 90188\n",
      "Data columns (total 5 columns):\n",
      " #   Column          Non-Null Count  Dtype \n",
      "---  ------          --------------  ----- \n",
      " 0   userid          90189 non-null  int64 \n",
      " 1   version         90189 non-null  object\n",
      " 2   sum_gamerounds  90189 non-null  int64 \n",
      " 3   retention_1     90189 non-null  bool  \n",
      " 4   retention_7     90189 non-null  bool  \n",
      "dtypes: bool(2), int64(2), object(1)\n",
      "memory usage: 2.2+ MB\n"
     ]
    }
   ],
   "source": [
    "df.info()"
   ]
  },
  {
   "cell_type": "code",
   "execution_count": 8,
   "metadata": {},
   "outputs": [
    {
     "data": {
      "text/plain": [
       "userid            0\n",
       "version           0\n",
       "sum_gamerounds    0\n",
       "retention_1       0\n",
       "retention_7       0\n",
       "dtype: int64"
      ]
     },
     "execution_count": 8,
     "metadata": {},
     "output_type": "execute_result"
    }
   ],
   "source": [
    "df.isna().sum()"
   ]
  },
  {
   "cell_type": "code",
   "execution_count": 9,
   "metadata": {},
   "outputs": [
    {
     "data": {
      "text/plain": [
       "(90189, 5)"
      ]
     },
     "execution_count": 9,
     "metadata": {},
     "output_type": "execute_result"
    }
   ],
   "source": [
    "df.shape"
   ]
  },
  {
   "cell_type": "markdown",
   "metadata": {},
   "source": [
    "## Let's explore the data"
   ]
  },
  {
   "cell_type": "code",
   "execution_count": 14,
   "metadata": {},
   "outputs": [
    {
     "data": {
      "text/plain": [
       "count     90189.000000\n",
       "median       16.000000\n",
       "mean         51.872457\n",
       "std         195.050858\n",
       "max       49854.000000\n",
       "Name: sum_gamerounds, dtype: float64"
      ]
     },
     "execution_count": 14,
     "metadata": {},
     "output_type": "execute_result"
    }
   ],
   "source": [
    "# basic statistic of sum_gamerounds\n",
    "df[\"sum_gamerounds\"].agg([\"count\", \"median\", \"mean\", \"std\", \"max\"]).T"
   ]
  },
  {
   "cell_type": "code",
   "execution_count": 15,
   "metadata": {},
   "outputs": [
    {
     "data": {
      "text/html": [
       "<div>\n",
       "<style scoped>\n",
       "    .dataframe tbody tr th:only-of-type {\n",
       "        vertical-align: middle;\n",
       "    }\n",
       "\n",
       "    .dataframe tbody tr th {\n",
       "        vertical-align: top;\n",
       "    }\n",
       "\n",
       "    .dataframe thead th {\n",
       "        text-align: right;\n",
       "    }\n",
       "</style>\n",
       "<table border=\"1\" class=\"dataframe\">\n",
       "  <thead>\n",
       "    <tr style=\"text-align: right;\">\n",
       "      <th></th>\n",
       "      <th>count</th>\n",
       "      <th>median</th>\n",
       "      <th>mean</th>\n",
       "      <th>std</th>\n",
       "      <th>max</th>\n",
       "    </tr>\n",
       "    <tr>\n",
       "      <th>version</th>\n",
       "      <th></th>\n",
       "      <th></th>\n",
       "      <th></th>\n",
       "      <th></th>\n",
       "      <th></th>\n",
       "    </tr>\n",
       "  </thead>\n",
       "  <tbody>\n",
       "    <tr>\n",
       "      <th>gate_30</th>\n",
       "      <td>44700</td>\n",
       "      <td>17</td>\n",
       "      <td>52.456264</td>\n",
       "      <td>256.716423</td>\n",
       "      <td>49854</td>\n",
       "    </tr>\n",
       "    <tr>\n",
       "      <th>gate_40</th>\n",
       "      <td>45489</td>\n",
       "      <td>16</td>\n",
       "      <td>51.298776</td>\n",
       "      <td>103.294416</td>\n",
       "      <td>2640</td>\n",
       "    </tr>\n",
       "  </tbody>\n",
       "</table>\n",
       "</div>"
      ],
      "text/plain": [
       "         count  median       mean         std    max\n",
       "version                                             \n",
       "gate_30  44700      17  52.456264  256.716423  49854\n",
       "gate_40  45489      16  51.298776  103.294416   2640"
      ]
     },
     "execution_count": 15,
     "metadata": {},
     "output_type": "execute_result"
    }
   ],
   "source": [
    "#basic stat for target variable\n",
    "df.groupby(\"version\").sum_gamerounds.agg([\"count\", \"median\", \"mean\", \"std\", \"max\"])"
   ]
  },
  {
   "cell_type": "markdown",
   "metadata": {},
   "source": [
    "Based on the table, I can see that gate 30 is more dispersed, and max sum_gamerounds is much higher than gate_40."
   ]
  },
  {
   "cell_type": "code",
   "execution_count": 42,
   "metadata": {},
   "outputs": [],
   "source": [
    "#remove outliner for distribtion charts\n",
    "tmp = df[df.sum_gamerounds < 49854]"
   ]
  },
  {
   "cell_type": "code",
   "execution_count": 49,
   "metadata": {},
   "outputs": [
    {
     "data": {
      "text/plain": [
       "Text(0.5, 1.0, 'Gate 40')"
      ]
     },
     "execution_count": 49,
     "metadata": {},
     "output_type": "execute_result"
    },
    {
     "data": {
      "image/png": "[encoded data removed]",
      "text/plain": [
       "<Figure size 720x360 with 3 Axes>"
      ]
     },
     "metadata": {
      "needs_background": "light"
     },
     "output_type": "display_data"
    }
   ],
   "source": [
    "fig, axes = plt.subplots(1, 3, figsize = (10,5))\n",
    "tmp.sum_gamerounds.hist(ax = axes[0],bins=20)\n",
    "tmp[tmp.version=='gate_30'].sum_gamerounds.hist(ax = axes[1],bins=20)\n",
    "tmp[tmp.version=='gate_40'].sum_gamerounds.hist(ax = axes[2],bins=20)\n",
    "\n",
    "axes[0].set_title(\"Two Groups\", fontsize = 10)\n",
    "axes[1].set_title(\"Gate 30\", fontsize = 10)\n",
    "axes[2].set_title(\"Gate 40\", fontsize = 10)"
   ]
  },
  {
   "cell_type": "code",
   "execution_count": 58,
   "metadata": {},
   "outputs": [
    {
     "data": {
      "image/png": "[encoded data removed]",
      "text/plain": [
       "<Figure size 432x288 with 1 Axes>"
      ]
     },
     "metadata": {
      "needs_background": "light"
     },
     "output_type": "display_data"
    }
   ],
   "source": [
    "#distribtion of user for sum game round\n",
    "\n",
    "game_count = tmp.groupby('sum_gamerounds')['userid'].count()\n",
    "ax = game_count.head(n=300).plot(x=\"sum_gamerounds\", y=\"userid\")\n",
    "ax.set_xlabel(\"Game Rounds\")\n",
    "ax.set_ylabel(\"User Count\");"
   ]
  },
  {
   "cell_type": "code",
   "execution_count": 60,
   "metadata": {},
   "outputs": [
    {
     "data": {
      "text/plain": [
       "sum_gamerounds\n",
       "0    3994\n",
       "1    5538\n",
       "2    4606\n",
       "3    3958\n",
       "4    3629\n",
       "Name: userid, dtype: int64"
      ]
     },
     "execution_count": 60,
     "metadata": {},
     "output_type": "execute_result"
    }
   ],
   "source": [
    "tmp.groupby(\"sum_gamerounds\").userid.count().head(5)"
   ]
  },
  {
   "cell_type": "markdown",
   "metadata": {},
   "source": [
    "There are around 4000 users downloaded the app but neverplay the game."
   ]
  },
  {
   "cell_type": "code",
   "execution_count": 67,
   "metadata": {},
   "outputs": [
    {
     "data": {
      "text/html": [
       "<div>\n",
       "<style scoped>\n",
       "    .dataframe tbody tr th:only-of-type {\n",
       "        vertical-align: middle;\n",
       "    }\n",
       "\n",
       "    .dataframe tbody tr th {\n",
       "        vertical-align: top;\n",
       "    }\n",
       "\n",
       "    .dataframe thead th {\n",
       "        text-align: right;\n",
       "    }\n",
       "</style>\n",
       "<table border=\"1\" class=\"dataframe\">\n",
       "  <thead>\n",
       "    <tr style=\"text-align: right;\">\n",
       "      <th></th>\n",
       "      <th></th>\n",
       "      <th>count</th>\n",
       "      <th>median</th>\n",
       "      <th>mean</th>\n",
       "      <th>max</th>\n",
       "    </tr>\n",
       "    <tr>\n",
       "      <th>version</th>\n",
       "      <th>retention_1</th>\n",
       "      <th></th>\n",
       "      <th></th>\n",
       "      <th></th>\n",
       "      <th></th>\n",
       "    </tr>\n",
       "  </thead>\n",
       "  <tbody>\n",
       "    <tr>\n",
       "      <th rowspan=\"2\" valign=\"top\">gate_30</th>\n",
       "      <th>False</th>\n",
       "      <td>24665</td>\n",
       "      <td>6</td>\n",
       "      <td>16.359092</td>\n",
       "      <td>1072</td>\n",
       "    </tr>\n",
       "    <tr>\n",
       "      <th>True</th>\n",
       "      <td>20034</td>\n",
       "      <td>48</td>\n",
       "      <td>94.411700</td>\n",
       "      <td>2961</td>\n",
       "    </tr>\n",
       "    <tr>\n",
       "      <th rowspan=\"2\" valign=\"top\">gate_40</th>\n",
       "      <th>False</th>\n",
       "      <td>25370</td>\n",
       "      <td>6</td>\n",
       "      <td>16.340402</td>\n",
       "      <td>1241</td>\n",
       "    </tr>\n",
       "    <tr>\n",
       "      <th>True</th>\n",
       "      <td>20119</td>\n",
       "      <td>49</td>\n",
       "      <td>95.381182</td>\n",
       "      <td>2640</td>\n",
       "    </tr>\n",
       "  </tbody>\n",
       "</table>\n",
       "</div>"
      ],
      "text/plain": [
       "                     count  median       mean   max\n",
       "version retention_1                                \n",
       "gate_30 False        24665       6  16.359092  1072\n",
       "        True         20034      48  94.411700  2961\n",
       "gate_40 False        25370       6  16.340402  1241\n",
       "        True         20119      49  95.381182  2640"
      ]
     },
     "execution_count": 67,
     "metadata": {},
     "output_type": "execute_result"
    }
   ],
   "source": [
    "tmp.groupby([\"version\", \"retention_1\"]).sum_gamerounds.agg([\"count\", \"median\", \"mean\", \"max\"])"
   ]
  },
  {
   "cell_type": "code",
   "execution_count": 68,
   "metadata": {},
   "outputs": [
    {
     "data": {
      "text/html": [
       "<div>\n",
       "<style scoped>\n",
       "    .dataframe tbody tr th:only-of-type {\n",
       "        vertical-align: middle;\n",
       "    }\n",
       "\n",
       "    .dataframe tbody tr th {\n",
       "        vertical-align: top;\n",
       "    }\n",
       "\n",
       "    .dataframe thead th {\n",
       "        text-align: right;\n",
       "    }\n",
       "</style>\n",
       "<table border=\"1\" class=\"dataframe\">\n",
       "  <thead>\n",
       "    <tr style=\"text-align: right;\">\n",
       "      <th></th>\n",
       "      <th></th>\n",
       "      <th>count</th>\n",
       "      <th>median</th>\n",
       "      <th>mean</th>\n",
       "      <th>max</th>\n",
       "    </tr>\n",
       "    <tr>\n",
       "      <th>version</th>\n",
       "      <th>retention_7</th>\n",
       "      <th></th>\n",
       "      <th></th>\n",
       "      <th></th>\n",
       "      <th></th>\n",
       "    </tr>\n",
       "  </thead>\n",
       "  <tbody>\n",
       "    <tr>\n",
       "      <th rowspan=\"2\" valign=\"top\">gate_30</th>\n",
       "      <th>False</th>\n",
       "      <td>36198</td>\n",
       "      <td>11</td>\n",
       "      <td>25.796508</td>\n",
       "      <td>981</td>\n",
       "    </tr>\n",
       "    <tr>\n",
       "      <th>True</th>\n",
       "      <td>8501</td>\n",
       "      <td>105</td>\n",
       "      <td>160.117516</td>\n",
       "      <td>2961</td>\n",
       "    </tr>\n",
       "    <tr>\n",
       "      <th rowspan=\"2\" valign=\"top\">gate_40</th>\n",
       "      <th>False</th>\n",
       "      <td>37210</td>\n",
       "      <td>11</td>\n",
       "      <td>25.856356</td>\n",
       "      <td>2640</td>\n",
       "    </tr>\n",
       "    <tr>\n",
       "      <th>True</th>\n",
       "      <td>8279</td>\n",
       "      <td>111</td>\n",
       "      <td>165.649837</td>\n",
       "      <td>2294</td>\n",
       "    </tr>\n",
       "  </tbody>\n",
       "</table>\n",
       "</div>"
      ],
      "text/plain": [
       "                     count  median        mean   max\n",
       "version retention_7                                 \n",
       "gate_30 False        36198      11   25.796508   981\n",
       "        True          8501     105  160.117516  2961\n",
       "gate_40 False        37210      11   25.856356  2640\n",
       "        True          8279     111  165.649837  2294"
      ]
     },
     "execution_count": 68,
     "metadata": {},
     "output_type": "execute_result"
    }
   ],
   "source": [
    "tmp.groupby([\"version\", \"retention_7\"]).sum_gamerounds.agg([\"count\", \"median\", \"mean\", \"max\"])"
   ]
  },
  {
   "cell_type": "markdown",
   "metadata": {},
   "source": [
    "### overall rentention rate for day1 and day7"
   ]
  },
  {
   "cell_type": "code",
   "execution_count": 81,
   "metadata": {},
   "outputs": [
    {
     "name": "stdout",
     "output_type": "stream",
     "text": [
      "Rentation day 1 rate: 44.5%\n"
     ]
    }
   ],
   "source": [
    "rentation_1_rate = df['retention_1'].sum() / df['retention_1'].count()\n",
    "rentation_1_rate = '{:.1%}'.format(rentation_1_rate)\n",
    "print('Rentation day 1 rate: {}'.format(rentation_1_rate))"
   ]
  },
  {
   "cell_type": "code",
   "execution_count": 82,
   "metadata": {},
   "outputs": [
    {
     "name": "stdout",
     "output_type": "stream",
     "text": [
      "Rentation day 7 rate: 18.6%\n"
     ]
    }
   ],
   "source": [
    "rentation_7_rate = df['retention_7'].sum() / df['retention_7'].count()\n",
    "rentation_7_rate = '{:.1%}'.format(rentation_7_rate)\n",
    "print('Rentation day 7 rate: {}'.format(rentation_7_rate))"
   ]
  },
  {
   "cell_type": "code",
   "execution_count": 83,
   "metadata": {},
   "outputs": [],
   "source": [
    "###Gate 30 and gate 40 day1 and day 7 retention rate"
   ]
  },
  {
   "cell_type": "code",
   "execution_count": 84,
   "metadata": {},
   "outputs": [
    {
     "data": {
      "text/plain": [
       "version\n",
       "gate_30    0.448188\n",
       "gate_40    0.442283\n",
       "Name: retention_1, dtype: float64"
      ]
     },
     "execution_count": 84,
     "metadata": {},
     "output_type": "execute_result"
    }
   ],
   "source": [
    "df.groupby('version')['retention_1'].sum() / df.groupby('version')['retention_1'].count()"
   ]
  },
  {
   "cell_type": "code",
   "execution_count": 85,
   "metadata": {},
   "outputs": [
    {
     "data": {
      "text/plain": [
       "version\n",
       "gate_30    0.190201\n",
       "gate_40    0.182000\n",
       "Name: retention_7, dtype: float64"
      ]
     },
     "execution_count": 85,
     "metadata": {},
     "output_type": "execute_result"
    }
   ],
   "source": [
    "df.groupby('version')['retention_7'].sum() / df.groupby('version')['retention_7'].count()"
   ]
  },
  {
   "cell_type": "markdown",
   "metadata": {},
   "source": [
    "For gate 30, both day1 and day7 retention rate are slighly higher than gate 40. Let's do hypothesis test to check if it is a difference or just random error."
   ]
  },
  {
   "cell_type": "markdown",
   "metadata": {},
   "source": [
    "## AB testing"
   ]
  },
  {
   "cell_type": "markdown",
   "metadata": {},
   "source": [
    "Perform AB testing to determine if gate level change resulted in higer retention rate.\n",
    "\n",
    "Hypothesis\n",
    "\n",
    "- H0: There is no difference between gate 30 and gate 40 version.\n",
    "- H1: There is a difference between two version.\n",
    "\n",
    "Use rentation mean as test statistic."
   ]
  },
  {
   "cell_type": "markdown",
   "metadata": {},
   "source": [
    "### Bootstrapping"
   ]
  },
  {
   "cell_type": "code",
   "execution_count": 90,
   "metadata": {},
   "outputs": [],
   "source": [
    "#bootstrap function\n",
    "\n",
    "def bootstrap_rep_1d(data, func):\n",
    "    bs_sample = np.random.choice(data,len(data))\n",
    "    return func(bs_sample)\n",
    "\n",
    "def bs_reps(data, func, size=1):\n",
    "    bs_rep = np.empty(size)\n",
    "    for i in range(size):\n",
    "        bs_rep[i] = bootstrap_rep_1d(data, func)\n",
    "        \n",
    "    return bs_rep"
   ]
  },
  {
   "cell_type": "markdown",
   "metadata": {},
   "source": [
    "### Estimate the difference of the rentention rate between two groups and report a 95% confidence interval"
   ]
  },
  {
   "cell_type": "markdown",
   "metadata": {},
   "source": [
    "#### Day1"
   ]
  },
  {
   "cell_type": "code",
   "execution_count": 149,
   "metadata": {},
   "outputs": [],
   "source": [
    "gate_30_ren_1 = df[df['version']=='gate_30']['retention_1']\n",
    "gate_40_ren_1 = df[df['version']=='gate_40']['retention_1']"
   ]
  },
  {
   "cell_type": "code",
   "execution_count": 150,
   "metadata": {},
   "outputs": [
    {
     "name": "stdout",
     "output_type": "stream",
     "text": [
      "difference of means= 0.6%\n",
      "95% confidence interval= [-0.00054153  0.01263369]\n"
     ]
    }
   ],
   "source": [
    "mean_diff = gate_30_ren_1.mean() - gate_40_ren_1.mean()\n",
    "\n",
    "#get boostrap replicates of mean\n",
    "bs_rep_30 = bs_reps(gate_30_ren_1,np.mean,10000)\n",
    "bs_rep_40 = bs_reps(gate_40_ren_1,np.mean,10000)\n",
    "\n",
    "bs_diff_rep = bs_rep_30 - bs_rep_40\n",
    "\n",
    "conf_int = np.percentile(bs_diff_rep,[2.5, 97.5])\n",
    "\n",
    "print('difference of means=', '{:.1%}'.format(mean_diff))\n",
    "print('95% confidence interval=',conf_int)"
   ]
  },
  {
   "cell_type": "code",
   "execution_count": 151,
   "metadata": {},
   "outputs": [
    {
     "data": {
      "image/png": "[encoded data removed]",
      "text/plain": [
       "<Figure size 432x288 with 1 Axes>"
      ]
     },
     "metadata": {
      "needs_background": "light"
     },
     "output_type": "display_data"
    }
   ],
   "source": [
    "boot_1d = pd.DataFrame(bs_diff_rep)\n",
    "ax = boot_1d.plot.hist(bins=20)"
   ]
  },
  {
   "cell_type": "code",
   "execution_count": 152,
   "metadata": {},
   "outputs": [
    {
     "name": "stdout",
     "output_type": "stream",
     "text": [
      "probability of difference day1 96.2%\n"
     ]
    }
   ],
   "source": [
    "### probability of difference\n",
    "prob = (bs_diff_rep > 0).sum() / len(bs_diff_rep)\n",
    "prob = '{:.1%}'.format(prob)\n",
    "print('probability of difference day1',prob)"
   ]
  },
  {
   "cell_type": "markdown",
   "metadata": {},
   "source": [
    "#### Day7"
   ]
  },
  {
   "cell_type": "code",
   "execution_count": 162,
   "metadata": {},
   "outputs": [],
   "source": [
    "gate_30_ren_7 = df[df['version']=='gate_30']['retention_7']\n",
    "gate_40_ren_7 = df[df['version']=='gate_40']['retention_7']"
   ]
  },
  {
   "cell_type": "code",
   "execution_count": 163,
   "metadata": {},
   "outputs": [
    {
     "name": "stdout",
     "output_type": "stream",
     "text": [
      "difference of means= 0.8%\n",
      "95% confidence interval= [0.00320927 0.01329944]\n"
     ]
    }
   ],
   "source": [
    "mean_diff = gate_30_ren_7.mean() - gate_40_ren_7.mean()\n",
    "\n",
    "#get boostrap replicates of mean\n",
    "bs_rep_30_7 = bs_reps(gate_30_ren_7,np.mean,10000)\n",
    "bs_rep_40_7 = bs_reps(gate_40_ren_7,np.mean,10000)\n",
    "\n",
    "bs_diff_rep = bs_rep_30_7 - bs_rep_40_7\n",
    "\n",
    "conf_int = np.percentile(bs_diff_rep,[2.5, 97.5])\n",
    "\n",
    "print('difference of means=', '{:.1%}'.format(mean_diff))\n",
    "print('95% confidence interval=',conf_int)"
   ]
  },
  {
   "cell_type": "code",
   "execution_count": 164,
   "metadata": {},
   "outputs": [
    {
     "data": {
      "image/png": "[encoded data removed]",
      "text/plain": [
       "<Figure size 432x288 with 1 Axes>"
      ]
     },
     "metadata": {
      "needs_background": "light"
     },
     "output_type": "display_data"
    }
   ],
   "source": [
    "boot_1d = pd.DataFrame(bs_diff_rep)\n",
    "ax = boot_1d.plot.hist(bins=20)"
   ]
  },
  {
   "cell_type": "code",
   "execution_count": 165,
   "metadata": {},
   "outputs": [
    {
     "name": "stdout",
     "output_type": "stream",
     "text": [
      "probability of difference day7 99.9%\n"
     ]
    }
   ],
   "source": [
    "### probability of difference\n",
    "prob = (bs_diff_rep > 0).sum() / len(bs_diff_rep)\n",
    "prob = '{:.1%}'.format(prob)\n",
    "print('probability of difference day7',prob)"
   ]
  },
  {
   "cell_type": "markdown",
   "metadata": {},
   "source": [
    "### Bootstrap hypothesis test"
   ]
  },
  {
   "cell_type": "markdown",
   "metadata": {},
   "source": [
    "#### Day1"
   ]
  },
  {
   "cell_type": "code",
   "execution_count": 155,
   "metadata": {},
   "outputs": [
    {
     "name": "stdout",
     "output_type": "stream",
     "text": [
      "p-value 0.0364\n"
     ]
    }
   ],
   "source": [
    "mean_all = df['retention_1'].mean()\n",
    "\n",
    "#generate shifted \n",
    "force_30_shifted_1 = gate_30_ren_1 - gate_30_ren_1.mean() + mean_all\n",
    "force_40_shifted_1 = gate_40_ren_1 - gate_40_ren_1.mean() + mean_all\n",
    "\n",
    "#1000 bootstrap rep for shifted col\n",
    "bs_rep_30 = bs_reps(force_30_shifted_1, np.mean,size=10000)\n",
    "bs_rep_40 = bs_reps(force_40_shifted_1, np.mean,size=10000)\n",
    "\n",
    "bs_rep = bs_rep_30 - bs_rep_40\n",
    "\n",
    "p = np.sum(bs_rep>= mean_diff) / len(bs_rep)\n",
    "print('p-value',p)"
   ]
  },
  {
   "cell_type": "markdown",
   "metadata": {},
   "source": [
    "p-value is smaller than 0.05 -> reject null hypothesis"
   ]
  },
  {
   "cell_type": "markdown",
   "metadata": {},
   "source": [
    "#### Day7"
   ]
  },
  {
   "cell_type": "code",
   "execution_count": 168,
   "metadata": {},
   "outputs": [
    {
     "name": "stdout",
     "output_type": "stream",
     "text": [
      "p-value 0.0075\n"
     ]
    }
   ],
   "source": [
    "mean_all = df['retention_1'].mean()\n",
    "\n",
    "#generate shifted \n",
    "force_30_shifted_7 = gate_30_ren_7 - gate_30_ren_7.mean() + mean_all\n",
    "force_40_shifted_7 = gate_40_ren_7 - gate_40_ren_7.mean() + mean_all\n",
    "\n",
    "#1000 bootstrap rep for shifted col\n",
    "bs_rep_30_7 = bs_reps(force_30_shifted_1, np.mean,size=10000)\n",
    "bs_rep_40_7 = bs_reps(force_40_shifted_1, np.mean,size=10000)\n",
    "\n",
    "bs_rep = bs_rep_30_7 - bs_rep_40_7\n",
    "\n",
    "p = np.sum(bs_rep>= mean_diff) / len(bs_rep)\n",
    "print('p-value',p)"
   ]
  },
  {
   "cell_type": "markdown",
   "metadata": {},
   "source": [
    "p-value is smaller than 0.05 -> reject null hypothesis"
   ]
  },
  {
   "cell_type": "code",
   "execution_count": 170,
   "metadata": {},
   "outputs": [
    {
     "data": {
      "text/plain": [
       "(version\n",
       " gate_30    0.448188\n",
       " gate_40    0.442283\n",
       " Name: retention_1, dtype: float64,\n",
       " version\n",
       " gate_30    0.190201\n",
       " gate_40    0.182000\n",
       " Name: retention_7, dtype: float64)"
      ]
     },
     "execution_count": 170,
     "metadata": {},
     "output_type": "execute_result"
    }
   ],
   "source": [
    "#refresh rentention rate\n",
    "df.groupby('version')['retention_1'].sum() / df.groupby('version')['retention_1'].count(), df.groupby('version')['retention_7'].sum() / df.groupby('version')['retention_7'].count()"
   ]
  },
  {
   "cell_type": "markdown",
   "metadata": {},
   "source": [
    "## Result"
   ]
  },
  {
   "cell_type": "markdown",
   "metadata": {},
   "source": [
    "Based on the result of the hypothesis test, there is a significant difference between the two groups.\n",
    "The retention rate for gate 30 is higher than gate 40 for both day one and day seven. \n",
    "The result tells that we can confidently believe that day one and day seven retention rate of version gate 30 is higher than the version of gate 40.\n",
    "In short, the company should not change the gate level to 40."
   ]
  },
  {
   "cell_type": "markdown",
   "metadata": {},
   "source": [
    "### Findings and Recommendation"
   ]
  },
  {
   "cell_type": "code",
   "execution_count": null,
   "metadata": {},
   "outputs": [],
   "source": [
    "- There are 4000"
   ]
  }
 ],
 "metadata": {
  "kernelspec": {
   "display_name": "Python 3",
   "language": "python",
   "name": "python3"
  },
  "language_info": {
   "codemirror_mode": {
    "name": "ipython",
    "version": 3
   },
   "file_extension": ".py",
   "mimetype": "text/x-python",
   "name": "python",
   "nbconvert_exporter": "python",
   "pygments_lexer": "ipython3",
   "version": "3.7.6"
  }
 },
 "nbformat": 4,
 "nbformat_minor": 4
}
